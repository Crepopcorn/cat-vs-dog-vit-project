{
  "nbformat": 4,
  "nbformat_minor": 0,
  "metadata": {
    "colab": {
      "provenance": [],
      "machine_shape": "hm",
      "gpuType": "T4",
      "cell_execution_strategy": "setup",
      "authorship_tag": "ABX9TyNA3v60UZpwoQg7A2zOLHK1",
      "include_colab_link": true
    },
    "kernelspec": {
      "name": "python3",
      "display_name": "Python 3"
    },
    "language_info": {
      "name": "python"
    },
    "accelerator": "GPU"
  },
  "cells": [
    {
      "cell_type": "markdown",
      "metadata": {
        "id": "view-in-github",
        "colab_type": "text"
      },
      "source": [
        "<a href=\"https://colab.research.google.com/github/Crepopcorn/cat-vs-dog-vit-project/blob/main/vit_l32_scratch.ipynb\" target=\"_parent\"><img src=\"https://colab.research.google.com/assets/colab-badge.svg\" alt=\"Open In Colab\"/></a>"
      ]
    },
    {
      "cell_type": "markdown",
      "source": [
        "### **Dogs-vs-Cats classifier (vit_132)**\n"
      ],
      "metadata": {
        "id": "BJOcpoBYkSnI"
      }
    },
    {
      "cell_type": "markdown",
      "source": [
        "**1) Pre-load module**"
      ],
      "metadata": {
        "id": "0HCrJhB4kc6G"
      }
    },
    {
      "cell_type": "code",
      "execution_count": null,
      "metadata": {
        "id": "JMYBQt_qkLvr",
        "colab": {
          "base_uri": "https://localhost:8080/"
        },
        "outputId": "a5ebe411-301a-45ae-a6b6-27c98d837861"
      },
      "outputs": [
        {
          "output_type": "stream",
          "name": "stdout",
          "text": [
            "Collecting tensorflow-addons\n",
            "  Downloading tensorflow_addons-0.22.0-cp310-cp310-manylinux_2_17_x86_64.manylinux2014_x86_64.whl (612 kB)\n",
            "\u001b[?25l     \u001b[90m━━━━━━━━━━━━━━━━━━━━━━━━━━━━━━━━━━━━━━━━\u001b[0m \u001b[32m0.0/612.3 kB\u001b[0m \u001b[31m?\u001b[0m eta \u001b[36m-:--:--\u001b[0m\r\u001b[2K     \u001b[91m━━━━━━━━━━━━━━━\u001b[0m\u001b[90m╺\u001b[0m\u001b[90m━━━━━━━━━━━━━━━━━━━━━━━━\u001b[0m \u001b[32m235.5/612.3 kB\u001b[0m \u001b[31m6.9 MB/s\u001b[0m eta \u001b[36m0:00:01\u001b[0m\r\u001b[2K     \u001b[90m━━━━━━━━━━━━━━━━━━━━━━━━━━━━━━━━━━━━━━━━\u001b[0m \u001b[32m612.3/612.3 kB\u001b[0m \u001b[31m11.6 MB/s\u001b[0m eta \u001b[36m0:00:00\u001b[0m\n",
            "\u001b[?25hRequirement already satisfied: packaging in /usr/local/lib/python3.10/dist-packages (from tensorflow-addons) (23.2)\n",
            "Collecting typeguard<3.0.0,>=2.7 (from tensorflow-addons)\n",
            "  Downloading typeguard-2.13.3-py3-none-any.whl (17 kB)\n",
            "Installing collected packages: typeguard, tensorflow-addons\n",
            "Successfully installed tensorflow-addons-0.22.0 typeguard-2.13.3\n",
            "Collecting vit-keras\n",
            "  Downloading vit_keras-0.1.2-py3-none-any.whl (24 kB)\n",
            "Requirement already satisfied: scipy in /usr/local/lib/python3.10/dist-packages (from vit-keras) (1.11.3)\n",
            "Collecting validators (from vit-keras)\n",
            "  Downloading validators-0.22.0-py3-none-any.whl (26 kB)\n",
            "Requirement already satisfied: numpy<1.28.0,>=1.21.6 in /usr/local/lib/python3.10/dist-packages (from scipy->vit-keras) (1.23.5)\n",
            "Installing collected packages: validators, vit-keras\n",
            "Successfully installed validators-0.22.0 vit-keras-0.1.2\n",
            "Tue Oct 31 14:45:45 2023       \n",
            "+-----------------------------------------------------------------------------+\n",
            "| NVIDIA-SMI 525.105.17   Driver Version: 525.105.17   CUDA Version: 12.0     |\n",
            "|-------------------------------+----------------------+----------------------+\n",
            "| GPU  Name        Persistence-M| Bus-Id        Disp.A | Volatile Uncorr. ECC |\n",
            "| Fan  Temp  Perf  Pwr:Usage/Cap|         Memory-Usage | GPU-Util  Compute M. |\n",
            "|                               |                      |               MIG M. |\n",
            "|===============================+======================+======================|\n",
            "|   0  Tesla T4            Off  | 00000000:00:04.0 Off |                    0 |\n",
            "| N/A   42C    P8    12W /  70W |      0MiB / 15360MiB |      0%      Default |\n",
            "|                               |                      |                  N/A |\n",
            "+-------------------------------+----------------------+----------------------+\n",
            "                                                                               \n",
            "+-----------------------------------------------------------------------------+\n",
            "| Processes:                                                                  |\n",
            "|  GPU   GI   CI        PID   Type   Process name                  GPU Memory |\n",
            "|        ID   ID                                                   Usage      |\n",
            "|=============================================================================|\n",
            "|  No running processes found                                                 |\n",
            "+-----------------------------------------------------------------------------+\n"
          ]
        }
      ],
      "source": [
        "!pip install tensorflow-addons\n",
        "!pip install vit-keras\n",
        "!nvidia-smi"
      ]
    },
    {
      "cell_type": "code",
      "source": [
        "from google.colab import drive\n",
        "drive.mount(\"/content/drive/\")"
      ],
      "metadata": {
        "id": "KHWvSkp4sbpR",
        "colab": {
          "base_uri": "https://localhost:8080/"
        },
        "outputId": "a69fb3e2-c374-46a9-a3f2-192b0d582b91"
      },
      "execution_count": null,
      "outputs": [
        {
          "output_type": "stream",
          "name": "stdout",
          "text": [
            "Mounted at /content/drive/\n"
          ]
        }
      ]
    },
    {
      "cell_type": "code",
      "source": [
        "img_size=[256,256]\n",
        "train_dir='/content/drive/My Drive/data/train'\n",
        "test_dir='/content/drive/My Drive/data/val'\n",
        "!ls '/content/drive/My Drive/data/train'"
      ],
      "metadata": {
        "id": "tIYkhmh1tRTc",
        "colab": {
          "base_uri": "https://localhost:8080/"
        },
        "outputId": "989ae9ec-9681-4c9c-8638-a15233dbb589"
      },
      "execution_count": null,
      "outputs": [
        {
          "output_type": "stream",
          "name": "stdout",
          "text": [
            "cat  dog\n"
          ]
        }
      ]
    },
    {
      "cell_type": "code",
      "source": [
        "from vit_keras import vit, utils\n",
        "from keras.models import Model\n",
        "from keras.layers import Dense, Dropout, Flatten\n",
        "import matplotlib.pyplot as plt\n",
        "from keras.preprocessing.image import ImageDataGenerator\n",
        "from keras.models import Sequential,Model\n",
        "#from keras.optimizers import Adam\n",
        "import tensorflow as tf\n",
        "from tensorflow.keras.optimizers.legacy import Adam"
      ],
      "metadata": {
        "id": "RAl_MMaztTpG",
        "colab": {
          "base_uri": "https://localhost:8080/"
        },
        "outputId": "2474216a-92fa-414f-a554-ee550054df88"
      },
      "execution_count": null,
      "outputs": [
        {
          "output_type": "stream",
          "name": "stderr",
          "text": [
            "/usr/local/lib/python3.10/dist-packages/tensorflow_addons/utils/tfa_eol_msg.py:23: UserWarning: \n",
            "\n",
            "TensorFlow Addons (TFA) has ended development and introduction of new features.\n",
            "TFA has entered a minimal maintenance and release mode until a planned end of life in May 2024.\n",
            "Please modify downstream libraries to take dependencies from other repositories in our TensorFlow community (e.g. Keras, Keras-CV, and Keras-NLP). \n",
            "\n",
            "For more information see: https://github.com/tensorflow/addons/issues/2807 \n",
            "\n",
            "  warnings.warn(\n"
          ]
        }
      ]
    },
    {
      "cell_type": "markdown",
      "source": [
        "**2) Preprocessing**"
      ],
      "metadata": {
        "id": "X_tWBXbdvPQU"
      }
    },
    {
      "cell_type": "code",
      "source": [
        "image_size = 256\n",
        "base_model = vit.vit_l32(\n",
        "    image_size=image_size,\n",
        "    activation='relu',\n",
        "    pretrained=True,\n",
        "    include_top=False,\n",
        "    pretrained_top=False,\n",
        ")"
      ],
      "metadata": {
        "id": "zMTXKjvmtVcc",
        "colab": {
          "base_uri": "https://localhost:8080/"
        },
        "outputId": "a2e77fc7-fb51-440d-fc4b-e9ee1e2cadbf"
      },
      "execution_count": null,
      "outputs": [
        {
          "output_type": "stream",
          "name": "stdout",
          "text": [
            "Downloading data from https://github.com/faustomorales/vit-keras/releases/download/dl/ViT-L_32_imagenet21k+imagenet2012.npz\n",
            "1226658854/1226658854 [==============================] - 4s 0us/step\n"
          ]
        },
        {
          "output_type": "stream",
          "name": "stderr",
          "text": [
            "/usr/local/lib/python3.10/dist-packages/vit_keras/utils.py:81: UserWarning: Resizing position embeddings from 12, 12 to 8, 8\n",
            "  warnings.warn(\n"
          ]
        }
      ]
    },
    {
      "cell_type": "code",
      "source": [
        "print(base_model.summary())"
      ],
      "metadata": {
        "id": "m4iMrTiVtX81",
        "colab": {
          "base_uri": "https://localhost:8080/"
        },
        "outputId": "9c630abd-8fa6-40de-c364-6e813d448e54"
      },
      "execution_count": null,
      "outputs": [
        {
          "output_type": "stream",
          "name": "stdout",
          "text": [
            "Model: \"vit-l32\"\n",
            "_________________________________________________________________\n",
            " Layer (type)                Output Shape              Param #   \n",
            "=================================================================\n",
            " input_1 (InputLayer)        [(None, 256, 256, 3)]     0         \n",
            "                                                                 \n",
            " embedding (Conv2D)          (None, 8, 8, 1024)        3146752   \n",
            "                                                                 \n",
            " reshape (Reshape)           (None, 64, 1024)          0         \n",
            "                                                                 \n",
            " class_token (ClassToken)    (None, 65, 1024)          1024      \n",
            "                                                                 \n",
            " Transformer/posembed_input  (None, 65, 1024)          66560     \n",
            "  (AddPositionEmbs)                                              \n",
            "                                                                 \n",
            " Transformer/encoderblock_0  ((None, 65, 1024),        12596224  \n",
            "  (TransformerBlock)          (None, 16, None, None)             \n",
            "                             )                                   \n",
            "                                                                 \n",
            " Transformer/encoderblock_1  ((None, 65, 1024),        12596224  \n",
            "  (TransformerBlock)          (None, 16, None, None)             \n",
            "                             )                                   \n",
            "                                                                 \n",
            " Transformer/encoderblock_2  ((None, 65, 1024),        12596224  \n",
            "  (TransformerBlock)          (None, 16, None, None)             \n",
            "                             )                                   \n",
            "                                                                 \n",
            " Transformer/encoderblock_3  ((None, 65, 1024),        12596224  \n",
            "  (TransformerBlock)          (None, 16, None, None)             \n",
            "                             )                                   \n",
            "                                                                 \n",
            " Transformer/encoderblock_4  ((None, 65, 1024),        12596224  \n",
            "  (TransformerBlock)          (None, 16, None, None)             \n",
            "                             )                                   \n",
            "                                                                 \n",
            " Transformer/encoderblock_5  ((None, 65, 1024),        12596224  \n",
            "  (TransformerBlock)          (None, 16, None, None)             \n",
            "                             )                                   \n",
            "                                                                 \n",
            " Transformer/encoderblock_6  ((None, 65, 1024),        12596224  \n",
            "  (TransformerBlock)          (None, 16, None, None)             \n",
            "                             )                                   \n",
            "                                                                 \n",
            " Transformer/encoderblock_7  ((None, 65, 1024),        12596224  \n",
            "  (TransformerBlock)          (None, 16, None, None)             \n",
            "                             )                                   \n",
            "                                                                 \n",
            " Transformer/encoderblock_8  ((None, 65, 1024),        12596224  \n",
            "  (TransformerBlock)          (None, 16, None, None)             \n",
            "                             )                                   \n",
            "                                                                 \n",
            " Transformer/encoderblock_9  ((None, 65, 1024),        12596224  \n",
            "  (TransformerBlock)          (None, 16, None, None)             \n",
            "                             )                                   \n",
            "                                                                 \n",
            " Transformer/encoderblock_1  ((None, 65, 1024),        12596224  \n",
            " 0 (TransformerBlock)         (None, 16, None, None)             \n",
            "                             )                                   \n",
            "                                                                 \n",
            " Transformer/encoderblock_1  ((None, 65, 1024),        12596224  \n",
            " 1 (TransformerBlock)         (None, 16, None, None)             \n",
            "                             )                                   \n",
            "                                                                 \n",
            " Transformer/encoderblock_1  ((None, 65, 1024),        12596224  \n",
            " 2 (TransformerBlock)         (None, 16, None, None)             \n",
            "                             )                                   \n",
            "                                                                 \n",
            " Transformer/encoderblock_1  ((None, 65, 1024),        12596224  \n",
            " 3 (TransformerBlock)         (None, 16, None, None)             \n",
            "                             )                                   \n",
            "                                                                 \n",
            " Transformer/encoderblock_1  ((None, 65, 1024),        12596224  \n",
            " 4 (TransformerBlock)         (None, 16, None, None)             \n",
            "                             )                                   \n",
            "                                                                 \n",
            " Transformer/encoderblock_1  ((None, 65, 1024),        12596224  \n",
            " 5 (TransformerBlock)         (None, 16, None, None)             \n",
            "                             )                                   \n",
            "                                                                 \n",
            " Transformer/encoderblock_1  ((None, 65, 1024),        12596224  \n",
            " 6 (TransformerBlock)         (None, 16, None, None)             \n",
            "                             )                                   \n",
            "                                                                 \n",
            " Transformer/encoderblock_1  ((None, 65, 1024),        12596224  \n",
            " 7 (TransformerBlock)         (None, 16, None, None)             \n",
            "                             )                                   \n",
            "                                                                 \n",
            " Transformer/encoderblock_1  ((None, 65, 1024),        12596224  \n",
            " 8 (TransformerBlock)         (None, 16, None, None)             \n",
            "                             )                                   \n",
            "                                                                 \n",
            " Transformer/encoderblock_1  ((None, 65, 1024),        12596224  \n",
            " 9 (TransformerBlock)         (None, 16, None, None)             \n",
            "                             )                                   \n",
            "                                                                 \n",
            " Transformer/encoderblock_2  ((None, 65, 1024),        12596224  \n",
            " 0 (TransformerBlock)         (None, 16, None, None)             \n",
            "                             )                                   \n",
            "                                                                 \n",
            " Transformer/encoderblock_2  ((None, 65, 1024),        12596224  \n",
            " 1 (TransformerBlock)         (None, 16, None, None)             \n",
            "                             )                                   \n",
            "                                                                 \n",
            " Transformer/encoderblock_2  ((None, 65, 1024),        12596224  \n",
            " 2 (TransformerBlock)         (None, 16, None, None)             \n",
            "                             )                                   \n",
            "                                                                 \n",
            " Transformer/encoderblock_2  ((None, 65, 1024),        12596224  \n",
            " 3 (TransformerBlock)         (None, 16, None, None)             \n",
            "                             )                                   \n",
            "                                                                 \n",
            " Transformer/encoder_norm (  (None, 65, 1024)          2048      \n",
            " LayerNormalization)                                             \n",
            "                                                                 \n",
            " ExtractToken (Lambda)       (None, 1024)              0         \n",
            "                                                                 \n",
            "=================================================================\n",
            "Total params: 305525760 (1.14 GB)\n",
            "Trainable params: 305525760 (1.14 GB)\n",
            "Non-trainable params: 0 (0.00 Byte)\n",
            "_________________________________________________________________\n",
            "None\n"
          ]
        }
      ]
    },
    {
      "cell_type": "code",
      "source": [
        "for layer in base_model.layers:\n",
        "    layer.trainable=False\n",
        "\n",
        "print(\"Base model layers are freezed!!!\")"
      ],
      "metadata": {
        "id": "5V8VwdtPtaJl",
        "colab": {
          "base_uri": "https://localhost:8080/"
        },
        "outputId": "9f938da3-afce-46c4-db43-7e86c661ac6f"
      },
      "execution_count": null,
      "outputs": [
        {
          "output_type": "stream",
          "name": "stdout",
          "text": [
            "Base model layers are freezed!!!\n"
          ]
        }
      ]
    },
    {
      "cell_type": "code",
      "source": [
        "print(base_model.summary())"
      ],
      "metadata": {
        "id": "_6T8gi88tfwQ",
        "colab": {
          "base_uri": "https://localhost:8080/"
        },
        "outputId": "170df96c-ede4-42b3-df1d-14507d068239"
      },
      "execution_count": null,
      "outputs": [
        {
          "output_type": "stream",
          "name": "stdout",
          "text": [
            "Model: \"vit-l32\"\n",
            "_________________________________________________________________\n",
            " Layer (type)                Output Shape              Param #   \n",
            "=================================================================\n",
            " input_1 (InputLayer)        [(None, 256, 256, 3)]     0         \n",
            "                                                                 \n",
            " embedding (Conv2D)          (None, 8, 8, 1024)        3146752   \n",
            "                                                                 \n",
            " reshape (Reshape)           (None, 64, 1024)          0         \n",
            "                                                                 \n",
            " class_token (ClassToken)    (None, 65, 1024)          1024      \n",
            "                                                                 \n",
            " Transformer/posembed_input  (None, 65, 1024)          66560     \n",
            "  (AddPositionEmbs)                                              \n",
            "                                                                 \n",
            " Transformer/encoderblock_0  ((None, 65, 1024),        12596224  \n",
            "  (TransformerBlock)          (None, 16, None, None)             \n",
            "                             )                                   \n",
            "                                                                 \n",
            " Transformer/encoderblock_1  ((None, 65, 1024),        12596224  \n",
            "  (TransformerBlock)          (None, 16, None, None)             \n",
            "                             )                                   \n",
            "                                                                 \n",
            " Transformer/encoderblock_2  ((None, 65, 1024),        12596224  \n",
            "  (TransformerBlock)          (None, 16, None, None)             \n",
            "                             )                                   \n",
            "                                                                 \n",
            " Transformer/encoderblock_3  ((None, 65, 1024),        12596224  \n",
            "  (TransformerBlock)          (None, 16, None, None)             \n",
            "                             )                                   \n",
            "                                                                 \n",
            " Transformer/encoderblock_4  ((None, 65, 1024),        12596224  \n",
            "  (TransformerBlock)          (None, 16, None, None)             \n",
            "                             )                                   \n",
            "                                                                 \n",
            " Transformer/encoderblock_5  ((None, 65, 1024),        12596224  \n",
            "  (TransformerBlock)          (None, 16, None, None)             \n",
            "                             )                                   \n",
            "                                                                 \n",
            " Transformer/encoderblock_6  ((None, 65, 1024),        12596224  \n",
            "  (TransformerBlock)          (None, 16, None, None)             \n",
            "                             )                                   \n",
            "                                                                 \n",
            " Transformer/encoderblock_7  ((None, 65, 1024),        12596224  \n",
            "  (TransformerBlock)          (None, 16, None, None)             \n",
            "                             )                                   \n",
            "                                                                 \n",
            " Transformer/encoderblock_8  ((None, 65, 1024),        12596224  \n",
            "  (TransformerBlock)          (None, 16, None, None)             \n",
            "                             )                                   \n",
            "                                                                 \n",
            " Transformer/encoderblock_9  ((None, 65, 1024),        12596224  \n",
            "  (TransformerBlock)          (None, 16, None, None)             \n",
            "                             )                                   \n",
            "                                                                 \n",
            " Transformer/encoderblock_1  ((None, 65, 1024),        12596224  \n",
            " 0 (TransformerBlock)         (None, 16, None, None)             \n",
            "                             )                                   \n",
            "                                                                 \n",
            " Transformer/encoderblock_1  ((None, 65, 1024),        12596224  \n",
            " 1 (TransformerBlock)         (None, 16, None, None)             \n",
            "                             )                                   \n",
            "                                                                 \n",
            " Transformer/encoderblock_1  ((None, 65, 1024),        12596224  \n",
            " 2 (TransformerBlock)         (None, 16, None, None)             \n",
            "                             )                                   \n",
            "                                                                 \n",
            " Transformer/encoderblock_1  ((None, 65, 1024),        12596224  \n",
            " 3 (TransformerBlock)         (None, 16, None, None)             \n",
            "                             )                                   \n",
            "                                                                 \n",
            " Transformer/encoderblock_1  ((None, 65, 1024),        12596224  \n",
            " 4 (TransformerBlock)         (None, 16, None, None)             \n",
            "                             )                                   \n",
            "                                                                 \n",
            " Transformer/encoderblock_1  ((None, 65, 1024),        12596224  \n",
            " 5 (TransformerBlock)         (None, 16, None, None)             \n",
            "                             )                                   \n",
            "                                                                 \n",
            " Transformer/encoderblock_1  ((None, 65, 1024),        12596224  \n",
            " 6 (TransformerBlock)         (None, 16, None, None)             \n",
            "                             )                                   \n",
            "                                                                 \n",
            " Transformer/encoderblock_1  ((None, 65, 1024),        12596224  \n",
            " 7 (TransformerBlock)         (None, 16, None, None)             \n",
            "                             )                                   \n",
            "                                                                 \n",
            " Transformer/encoderblock_1  ((None, 65, 1024),        12596224  \n",
            " 8 (TransformerBlock)         (None, 16, None, None)             \n",
            "                             )                                   \n",
            "                                                                 \n",
            " Transformer/encoderblock_1  ((None, 65, 1024),        12596224  \n",
            " 9 (TransformerBlock)         (None, 16, None, None)             \n",
            "                             )                                   \n",
            "                                                                 \n",
            " Transformer/encoderblock_2  ((None, 65, 1024),        12596224  \n",
            " 0 (TransformerBlock)         (None, 16, None, None)             \n",
            "                             )                                   \n",
            "                                                                 \n",
            " Transformer/encoderblock_2  ((None, 65, 1024),        12596224  \n",
            " 1 (TransformerBlock)         (None, 16, None, None)             \n",
            "                             )                                   \n",
            "                                                                 \n",
            " Transformer/encoderblock_2  ((None, 65, 1024),        12596224  \n",
            " 2 (TransformerBlock)         (None, 16, None, None)             \n",
            "                             )                                   \n",
            "                                                                 \n",
            " Transformer/encoderblock_2  ((None, 65, 1024),        12596224  \n",
            " 3 (TransformerBlock)         (None, 16, None, None)             \n",
            "                             )                                   \n",
            "                                                                 \n",
            " Transformer/encoder_norm (  (None, 65, 1024)          2048      \n",
            " LayerNormalization)                                             \n",
            "                                                                 \n",
            " ExtractToken (Lambda)       (None, 1024)              0         \n",
            "                                                                 \n",
            "=================================================================\n",
            "Total params: 305525760 (1.14 GB)\n",
            "Trainable params: 0 (0.00 Byte)\n",
            "Non-trainable params: 305525760 (1.14 GB)\n",
            "_________________________________________________________________\n",
            "None\n"
          ]
        }
      ]
    },
    {
      "cell_type": "code",
      "source": [
        "x = Dropout(0.2)(base_model.output)\n",
        "x = Flatten()(x)\n",
        "x = Dense(2,'softmax')(x)\n",
        "\n",
        "model = Model(inputs=base_model.input,outputs=x)"
      ],
      "metadata": {
        "id": "B15m6TNcthaQ"
      },
      "execution_count": null,
      "outputs": []
    },
    {
      "cell_type": "code",
      "source": [
        "print(\"Final Model is:\\n\",model.summary())"
      ],
      "metadata": {
        "id": "BoXtkAQZt2t0",
        "colab": {
          "base_uri": "https://localhost:8080/"
        },
        "outputId": "30721fea-d5a2-4efd-cc94-401aac261c59"
      },
      "execution_count": null,
      "outputs": [
        {
          "output_type": "stream",
          "name": "stdout",
          "text": [
            "Model: \"model\"\n",
            "_________________________________________________________________\n",
            " Layer (type)                Output Shape              Param #   \n",
            "=================================================================\n",
            " input_1 (InputLayer)        [(None, 256, 256, 3)]     0         \n",
            "                                                                 \n",
            " embedding (Conv2D)          (None, 8, 8, 1024)        3146752   \n",
            "                                                                 \n",
            " reshape (Reshape)           (None, 64, 1024)          0         \n",
            "                                                                 \n",
            " class_token (ClassToken)    (None, 65, 1024)          1024      \n",
            "                                                                 \n",
            " Transformer/posembed_input  (None, 65, 1024)          66560     \n",
            "  (AddPositionEmbs)                                              \n",
            "                                                                 \n",
            " Transformer/encoderblock_0  ((None, 65, 1024),        12596224  \n",
            "  (TransformerBlock)          (None, 16, None, None)             \n",
            "                             )                                   \n",
            "                                                                 \n",
            " Transformer/encoderblock_1  ((None, 65, 1024),        12596224  \n",
            "  (TransformerBlock)          (None, 16, None, None)             \n",
            "                             )                                   \n",
            "                                                                 \n",
            " Transformer/encoderblock_2  ((None, 65, 1024),        12596224  \n",
            "  (TransformerBlock)          (None, 16, None, None)             \n",
            "                             )                                   \n",
            "                                                                 \n",
            " Transformer/encoderblock_3  ((None, 65, 1024),        12596224  \n",
            "  (TransformerBlock)          (None, 16, None, None)             \n",
            "                             )                                   \n",
            "                                                                 \n",
            " Transformer/encoderblock_4  ((None, 65, 1024),        12596224  \n",
            "  (TransformerBlock)          (None, 16, None, None)             \n",
            "                             )                                   \n",
            "                                                                 \n",
            " Transformer/encoderblock_5  ((None, 65, 1024),        12596224  \n",
            "  (TransformerBlock)          (None, 16, None, None)             \n",
            "                             )                                   \n",
            "                                                                 \n",
            " Transformer/encoderblock_6  ((None, 65, 1024),        12596224  \n",
            "  (TransformerBlock)          (None, 16, None, None)             \n",
            "                             )                                   \n",
            "                                                                 \n",
            " Transformer/encoderblock_7  ((None, 65, 1024),        12596224  \n",
            "  (TransformerBlock)          (None, 16, None, None)             \n",
            "                             )                                   \n",
            "                                                                 \n",
            " Transformer/encoderblock_8  ((None, 65, 1024),        12596224  \n",
            "  (TransformerBlock)          (None, 16, None, None)             \n",
            "                             )                                   \n",
            "                                                                 \n",
            " Transformer/encoderblock_9  ((None, 65, 1024),        12596224  \n",
            "  (TransformerBlock)          (None, 16, None, None)             \n",
            "                             )                                   \n",
            "                                                                 \n",
            " Transformer/encoderblock_1  ((None, 65, 1024),        12596224  \n",
            " 0 (TransformerBlock)         (None, 16, None, None)             \n",
            "                             )                                   \n",
            "                                                                 \n",
            " Transformer/encoderblock_1  ((None, 65, 1024),        12596224  \n",
            " 1 (TransformerBlock)         (None, 16, None, None)             \n",
            "                             )                                   \n",
            "                                                                 \n",
            " Transformer/encoderblock_1  ((None, 65, 1024),        12596224  \n",
            " 2 (TransformerBlock)         (None, 16, None, None)             \n",
            "                             )                                   \n",
            "                                                                 \n",
            " Transformer/encoderblock_1  ((None, 65, 1024),        12596224  \n",
            " 3 (TransformerBlock)         (None, 16, None, None)             \n",
            "                             )                                   \n",
            "                                                                 \n",
            " Transformer/encoderblock_1  ((None, 65, 1024),        12596224  \n",
            " 4 (TransformerBlock)         (None, 16, None, None)             \n",
            "                             )                                   \n",
            "                                                                 \n",
            " Transformer/encoderblock_1  ((None, 65, 1024),        12596224  \n",
            " 5 (TransformerBlock)         (None, 16, None, None)             \n",
            "                             )                                   \n",
            "                                                                 \n",
            " Transformer/encoderblock_1  ((None, 65, 1024),        12596224  \n",
            " 6 (TransformerBlock)         (None, 16, None, None)             \n",
            "                             )                                   \n",
            "                                                                 \n",
            " Transformer/encoderblock_1  ((None, 65, 1024),        12596224  \n",
            " 7 (TransformerBlock)         (None, 16, None, None)             \n",
            "                             )                                   \n",
            "                                                                 \n",
            " Transformer/encoderblock_1  ((None, 65, 1024),        12596224  \n",
            " 8 (TransformerBlock)         (None, 16, None, None)             \n",
            "                             )                                   \n",
            "                                                                 \n",
            " Transformer/encoderblock_1  ((None, 65, 1024),        12596224  \n",
            " 9 (TransformerBlock)         (None, 16, None, None)             \n",
            "                             )                                   \n",
            "                                                                 \n",
            " Transformer/encoderblock_2  ((None, 65, 1024),        12596224  \n",
            " 0 (TransformerBlock)         (None, 16, None, None)             \n",
            "                             )                                   \n",
            "                                                                 \n",
            " Transformer/encoderblock_2  ((None, 65, 1024),        12596224  \n",
            " 1 (TransformerBlock)         (None, 16, None, None)             \n",
            "                             )                                   \n",
            "                                                                 \n",
            " Transformer/encoderblock_2  ((None, 65, 1024),        12596224  \n",
            " 2 (TransformerBlock)         (None, 16, None, None)             \n",
            "                             )                                   \n",
            "                                                                 \n",
            " Transformer/encoderblock_2  ((None, 65, 1024),        12596224  \n",
            " 3 (TransformerBlock)         (None, 16, None, None)             \n",
            "                             )                                   \n",
            "                                                                 \n",
            " Transformer/encoder_norm (  (None, 65, 1024)          2048      \n",
            " LayerNormalization)                                             \n",
            "                                                                 \n",
            " ExtractToken (Lambda)       (None, 1024)              0         \n",
            "                                                                 \n",
            " dropout (Dropout)           (None, 1024)              0         \n",
            "                                                                 \n",
            " flatten (Flatten)           (None, 1024)              0         \n",
            "                                                                 \n",
            " dense (Dense)               (None, 2)                 2050      \n",
            "                                                                 \n",
            "=================================================================\n",
            "Total params: 305527810 (1.14 GB)\n",
            "Trainable params: 2050 (8.01 KB)\n",
            "Non-trainable params: 305525760 (1.14 GB)\n",
            "_________________________________________________________________\n",
            "Final Model is:\n",
            " None\n"
          ]
        }
      ]
    },
    {
      "cell_type": "code",
      "source": [
        "opt=Adam(learning_rate=0.001, beta_1=0.9, beta_2=0.999, decay=0.0, amsgrad=False)"
      ],
      "metadata": {
        "id": "urIYHcjmt4I9"
      },
      "execution_count": null,
      "outputs": []
    },
    {
      "cell_type": "code",
      "source": [
        "model.compile(loss='categorical_crossentropy',optimizer=opt,metrics=['accuracy'])"
      ],
      "metadata": {
        "id": "sFjmGzb5t7Ba"
      },
      "execution_count": null,
      "outputs": []
    },
    {
      "cell_type": "code",
      "source": [
        "RANDOM_SEED=123\n",
        "train_datagen = ImageDataGenerator(\n",
        "    width_shift_range=0.4,\n",
        "    height_shift_range=0.4,\n",
        "    rescale=1.0/255,\n",
        "    horizontal_flip=True\n",
        ")\n",
        "\n",
        "test_datagen = ImageDataGenerator(\n",
        "    rescale=1.0/255,\n",
        ")\n",
        "\n",
        "\n",
        "train_generator = train_datagen.flow_from_directory(\n",
        "    train_dir,\n",
        "    color_mode='rgb',\n",
        "    target_size=img_size,\n",
        "    batch_size=64,\n",
        "    class_mode='categorical',\n",
        "    seed=RANDOM_SEED\n",
        ")\n",
        "\n",
        "\n",
        "validation_generator = test_datagen.flow_from_directory(\n",
        "    test_dir,\n",
        "    color_mode='rgb',\n",
        "    target_size=img_size,\n",
        "    batch_size=64,\n",
        "    class_mode='categorical',\n",
        "    seed=RANDOM_SEED\n",
        ")"
      ],
      "metadata": {
        "id": "tUe3RvE8t_vw",
        "colab": {
          "base_uri": "https://localhost:8080/"
        },
        "outputId": "422b007b-2d98-4b66-b5e6-b09aa79e9dca"
      },
      "execution_count": null,
      "outputs": [
        {
          "output_type": "stream",
          "name": "stdout",
          "text": [
            "Found 20000 images belonging to 2 classes.\n",
            "Found 5000 images belonging to 2 classes.\n"
          ]
        }
      ]
    },
    {
      "cell_type": "markdown",
      "source": [
        "**3) Train Model**"
      ],
      "metadata": {
        "id": "fElJaSQbvkeE"
      }
    },
    {
      "cell_type": "code",
      "source": [
        "import time\n",
        "start = time.time()\n",
        "hist = model.fit(\n",
        "    train_generator,\n",
        "    epochs=15,\n",
        "    validation_data = validation_generator\n",
        ")\n",
        "\n",
        "end = time.time()\n",
        "print(\"Total time taken: \",end-start)"
      ],
      "metadata": {
        "colab": {
          "base_uri": "https://localhost:8080/"
        },
        "id": "Wt1Jer8UuBKV",
        "outputId": "4abb5003-dbbb-4ff4-c970-de121bdb3b29"
      },
      "execution_count": null,
      "outputs": [
        {
          "output_type": "stream",
          "name": "stdout",
          "text": [
            "Epoch 1/15\n",
            "313/313 [==============================] - 3646s 12s/step - loss: 0.0854 - accuracy: 0.9669 - val_loss: 0.0264 - val_accuracy: 0.9904\n",
            "Epoch 2/15\n",
            "313/313 [==============================] - 433s 1s/step - loss: 0.0844 - accuracy: 0.9678 - val_loss: 0.0282 - val_accuracy: 0.9906\n",
            "Epoch 3/15\n",
            "313/313 [==============================] - 436s 1s/step - loss: 0.0779 - accuracy: 0.9691 - val_loss: 0.0274 - val_accuracy: 0.9910\n",
            "Epoch 4/15\n",
            "313/313 [==============================] - 438s 1s/step - loss: 0.0732 - accuracy: 0.9718 - val_loss: 0.0278 - val_accuracy: 0.9910\n",
            "Epoch 5/15\n",
            "313/313 [==============================] - 438s 1s/step - loss: 0.0803 - accuracy: 0.9693 - val_loss: 0.0278 - val_accuracy: 0.9900\n",
            "Epoch 6/15\n",
            "313/313 [==============================] - 435s 1s/step - loss: 0.0773 - accuracy: 0.9700 - val_loss: 0.0257 - val_accuracy: 0.9916\n",
            "Epoch 7/15\n",
            "313/313 [==============================] - 427s 1s/step - loss: 0.0780 - accuracy: 0.9701 - val_loss: 0.0269 - val_accuracy: 0.9902\n",
            "Epoch 8/15\n",
            "313/313 [==============================] - 429s 1s/step - loss: 0.0764 - accuracy: 0.9717 - val_loss: 0.0250 - val_accuracy: 0.9918\n",
            "Epoch 9/15\n",
            "313/313 [==============================] - 433s 1s/step - loss: 0.0780 - accuracy: 0.9704 - val_loss: 0.0253 - val_accuracy: 0.9904\n",
            "Epoch 10/15\n",
            "313/313 [==============================] - 426s 1s/step - loss: 0.0812 - accuracy: 0.9689 - val_loss: 0.0258 - val_accuracy: 0.9910\n",
            "Epoch 11/15\n",
            "313/313 [==============================] - 428s 1s/step - loss: 0.0787 - accuracy: 0.9693 - val_loss: 0.0271 - val_accuracy: 0.9898\n",
            "Epoch 12/15\n",
            "313/313 [==============================] - 428s 1s/step - loss: 0.0812 - accuracy: 0.9674 - val_loss: 0.0262 - val_accuracy: 0.9906\n",
            "Epoch 13/15\n",
            "313/313 [==============================] - 438s 1s/step - loss: 0.0805 - accuracy: 0.9692 - val_loss: 0.0272 - val_accuracy: 0.9892\n",
            "Epoch 14/15\n",
            "313/313 [==============================] - 430s 1s/step - loss: 0.0774 - accuracy: 0.9702 - val_loss: 0.0281 - val_accuracy: 0.9884\n",
            "Epoch 15/15\n",
            "313/313 [==============================] - 430s 1s/step - loss: 0.0779 - accuracy: 0.9701 - val_loss: 0.0255 - val_accuracy: 0.9892\n",
            "Total time taken:  9697.201612234116\n"
          ]
        }
      ]
    },
    {
      "cell_type": "markdown",
      "source": [
        "**4) Plot Graph**"
      ],
      "metadata": {
        "id": "CS5nRG55vq0X"
      }
    },
    {
      "cell_type": "code",
      "source": [
        "# plotting the figure for accuracy\n",
        "plt.figure(figsize=(10,7))\n",
        "plt.plot(hist.history['accuracy'])\n",
        "plt.plot(hist.history['val_accuracy'])\n",
        "plt.title('Model Accuracy Vision Transformer')\n",
        "plt.ylabel('Accuracy')\n",
        "plt.xlabel('Epoch')\n",
        "plt.legend(['train', 'val'], loc='lower right')\n",
        "plt.show()"
      ],
      "metadata": {
        "id": "9hsFC3DRuFdV",
        "colab": {
          "base_uri": "https://localhost:8080/",
          "height": 641
        },
        "outputId": "2ae64790-6382-45b6-ce76-0d431bdb7e1c"
      },
      "execution_count": null,
      "outputs": [
        {
          "output_type": "display_data",
          "data": {
            "text/plain": [
              "<Figure size 1000x700 with 1 Axes>"
            ],
            "image/png": "[encoded data removed]"
          },
          "metadata": {}
        }
      ]
    },
    {
      "cell_type": "code",
      "source": [
        "# plotting the figure for loss\n",
        "plt.figure(figsize=(10,7))\n",
        "plt.plot(hist.history['loss'])\n",
        "plt.plot(hist.history['val_loss'])\n",
        "plt.title('Model Loss Vision Transformer')\n",
        "plt.ylabel('Loss')\n",
        "plt.xlabel('Epoch')\n",
        "plt.legend(['train', 'val'], loc='upper right')\n",
        "plt.show()"
      ],
      "metadata": {
        "id": "gKE-YMTvuIHP",
        "colab": {
          "base_uri": "https://localhost:8080/",
          "height": 641
        },
        "outputId": "7ba96fa6-1cb9-45fa-cc20-cd6c27361e99"
      },
      "execution_count": null,
      "outputs": [
        {
          "output_type": "display_data",
          "data": {
            "text/plain": [
              "<Figure size 1000x700 with 1 Axes>"
            ],
            "image/png": "[encoded data removed]"
          },
          "metadata": {}
        }
      ]
    },
    {
      "cell_type": "code",
      "source": [
        "model.save('dogCat_vit_l32.h5')"
      ],
      "metadata": {
        "id": "_f5ezsjduJXY",
        "colab": {
          "base_uri": "https://localhost:8080/"
        },
        "outputId": "da4efa4f-ac89-400f-d440-d186e8df3279"
      },
      "execution_count": null,
      "outputs": [
        {
          "output_type": "stream",
          "name": "stderr",
          "text": [
            "/usr/local/lib/python3.10/dist-packages/keras/src/engine/training.py:3079: UserWarning: You are saving your model as an HDF5 file via `model.save()`. This file format is considered legacy. We recommend using instead the native Keras format, e.g. `model.save('my_model.keras')`.\n",
            "  saving_api.save_model(\n"
          ]
        }
      ]
    }
  ]
}